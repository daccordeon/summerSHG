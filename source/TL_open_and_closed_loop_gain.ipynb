{
 "cells": [
  {
   "cell_type": "code",
   "execution_count": null,
   "metadata": {},
   "outputs": [],
   "source": [
    "\"\"\"TL_open_and_closed_loop_gain.ipynb\n",
    "James Gardner\n",
    "January 2021\n",
    "\"\"\"\n",
    "\n",
    "import numpy as np\n",
    "import matplotlib.pyplot as plt"
   ]
  },
  {
   "cell_type": "code",
   "execution_count": null,
   "metadata": {},
   "outputs": [],
   "source": [
    "# contant font sizes for plotting\n",
    "SMALL_SIZE = 12\n",
    "MEDIUM_SIZE = 16\n",
    "BIGGER_SIZE = 22\n",
    "\n",
    "plt.rc('font', size=SMALL_SIZE)          # controls default text sizes\n",
    "plt.rc('axes', titlesize=MEDIUM_SIZE)     # fontsize of the axes title\n",
    "plt.rc('axes', labelsize=MEDIUM_SIZE)    # fontsize of the x and y labels\n",
    "plt.rc('xtick', labelsize=SMALL_SIZE)    # fontsize of the tick labels\n",
    "plt.rc('ytick', labelsize=SMALL_SIZE)    # fontsize of the tick labels\n",
    "plt.rc('legend', fontsize=SMALL_SIZE)    # legend fontsize\n",
    "plt.rc('figure', titlesize=BIGGER_SIZE)  # fontsize of the figure title"
   ]
  },
  {
   "cell_type": "code",
   "execution_count": null,
   "metadata": {},
   "outputs": [],
   "source": [
    "# naming convention: constant variables are capitalised\n",
    "PATH_TO_DATA_DIR = \"../data/\""
   ]
  },
  {
   "cell_type": "code",
   "execution_count": null,
   "metadata": {},
   "outputs": [],
   "source": [
    "# columns are: frequency / Hz, amplitude / [20 log_{10}]dB, phase / deg\n",
    "olg_data = np.genfromtxt(PATH_TO_DATA_DIR+\"SR785_05-01-2021_120430.txt\")\n",
    "freq_axis = olg_data[:,0]\n",
    "olg_amplitude, olg_phase = 10**(olg_data[:,1]/20), np.pi/180*olg_data[:,2]\n",
    "olg = olg_amplitude*np.exp(1j*olg_phase)\n",
    "\n",
    "clg = 1/(1+olg)\n",
    "clg_amplitude, clg_phase = 20*np.log10(np.abs(clg)), np.angle(clg, deg=True)"
   ]
  },
  {
   "cell_type": "code",
   "execution_count": null,
   "metadata": {},
   "outputs": [],
   "source": [
    "fig, (ax1, ax2) = plt.subplots(2, 1, sharex=True, figsize=(12,6))\n",
    "ax1.plot(freq_axis, olg_data[:,1], label=\"OLG\")\n",
    "ax2.plot(freq_axis, olg_data[:,2], label=\"OLG\")\n",
    "ax1.plot(freq_axis, clg_amplitude, label=\"CLG\")\n",
    "ax2.plot(freq_axis, clg_phase, label=\"CLG\")\n",
    "\n",
    "# argmax returns the first occurance\n",
    "ax1.vlines([freq_axis[np.argmax(olg_data[:,1] < 0)]], -20, 20, colors=['r'], linestyles=[\"--\"], label=\"UGF\")\n",
    "\n",
    "ax1.legend()\n",
    "ax2.legend()\n",
    "ax1.grid(which=\"both\")\n",
    "ax2.grid(which=\"both\")\n",
    "fig.subplots_adjust(hspace=0.05)\n",
    "ax1.set(ylabel=\"magnitude / dB\")\n",
    "ax2.set(xscale=\"log\", ylim=(-180,180), ylabel=\"phase / (deg)\", xlabel=\"frequency / Hz\")\n",
    "\n",
    "fig.align_ylabels()\n",
    "fig.savefig(\"TL_OLG_and_CLG.pdf\")\n",
    "fig.savefig(\"TL_OLG_and_CLG.jpg\")\n",
    "plt.show()"
   ]
  },
  {
   "cell_type": "code",
   "execution_count": null,
   "metadata": {},
   "outputs": [],
   "source": []
  }
 ],
 "metadata": {
  "kernelspec": {
   "display_name": "Python 3",
   "language": "python",
   "name": "python3"
  },
  "language_info": {
   "codemirror_mode": {
    "name": "ipython",
    "version": 3
   },
   "file_extension": ".py",
   "mimetype": "text/x-python",
   "name": "python",
   "nbconvert_exporter": "python",
   "pygments_lexer": "ipython3",
   "version": "3.6.9"
  }
 },
 "nbformat": 4,
 "nbformat_minor": 2
}
