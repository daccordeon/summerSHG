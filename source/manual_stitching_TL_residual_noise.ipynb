{
 "cells": [
  {
   "cell_type": "code",
   "execution_count": null,
   "metadata": {},
   "outputs": [],
   "source": [
    "\"\"\"\n",
    "James Gardner\n",
    "December 2020\n",
    "\"\"\"\n",
    "\n",
    "import numpy as np\n",
    "import matplotlib.pyplot as plt\n",
    "# import pandas as pd"
   ]
  },
  {
   "cell_type": "code",
   "execution_count": null,
   "metadata": {},
   "outputs": [],
   "source": [
    "# contant font sizes for plotting\n",
    "SMALL_SIZE = 12\n",
    "MEDIUM_SIZE = 16\n",
    "BIGGER_SIZE = 22\n",
    "\n",
    "plt.rc('font', size=SMALL_SIZE)          # controls default text sizes\n",
    "plt.rc('axes', titlesize=MEDIUM_SIZE)     # fontsize of the axes title\n",
    "plt.rc('axes', labelsize=MEDIUM_SIZE)    # fontsize of the x and y labels\n",
    "plt.rc('xtick', labelsize=SMALL_SIZE)    # fontsize of the tick labels\n",
    "plt.rc('ytick', labelsize=SMALL_SIZE)    # fontsize of the tick labels\n",
    "plt.rc('legend', fontsize=SMALL_SIZE)    # legend fontsize\n",
    "plt.rc('figure', titlesize=BIGGER_SIZE)  # fontsize of the figure title"
   ]
  },
  {
   "cell_type": "code",
   "execution_count": null,
   "metadata": {},
   "outputs": [],
   "source": [
    "def load_and_stitch(filename_tags, path_to_dir = \"../data/\",\n",
    "                    filename_header = \"SR785_23-12-2020_\", plot_true=True, show_true=True, plot_label=\"\",\n",
    "                    return_data=False):\n",
    "    \"\"\"given a list of timestamps, plots the stitched data np array for the full spectrum\"\"\"\n",
    "    # numpy is clever enough to cut the metadata header from each\n",
    "    data_set = np.array([np.genfromtxt(path_to_dir + filename_header + tag + \".txt\") for tag in filename_tags])\n",
    "    max_freqs = np.array([data[-1,0] for data in data_set])\n",
    "\n",
    "    # sort in ascending order of max freq\n",
    "    data_set = data_set[np.argsort(max_freqs)]\n",
    "    max_freqs = np.sort(max_freqs)\n",
    "\n",
    "    # stitching\n",
    "    data_stitched = np.append(data_set[0],\n",
    "                              np.concatenate([data[data[:,0].searchsorted(max_freqs[i]):]\n",
    "                                              for i, data in enumerate(data_set[1:])]),\n",
    "                              axis=0)\n",
    "\n",
    "    # plotting\n",
    "    if plot_true:\n",
    "        yrange = (data_stitched[:,1].min(), data_stitched[:,1].max())\n",
    "\n",
    "        fig, ax = plt.subplots(figsize=(12,6))\n",
    "        ax.loglog(data_stitched[:,0], data_stitched[:,1], label=plot_label)\n",
    "        ax.vlines(max_freqs[:-1], yrange[0], yrange[1], colors=['r'], linestyles=['--'], label='frequency bands')\n",
    "        ax.set(title=\"\", ylabel=r\"absolute value of FFT / $\\dfrac{V_{rms}}{\\sqrt{Hz}}$\", xlabel=\"frequency / Hz\",\n",
    "               xlim=(None, data_stitched[:,0].max()))\n",
    "        ax.legend()\n",
    "        ax.grid(which=\"both\")\n",
    "        fig.savefig(\"TL_residual_error_full_spectrum_{0}.pdf\".format(filename_tags[0]), bbox_inches=\"tight\")\n",
    "        if show_true:\n",
    "            plt.show(fig)\n",
    "        \n",
    "    if return_data:\n",
    "        return max_freqs, data_stitched"
   ]
  },
  {
   "cell_type": "code",
   "execution_count": null,
   "metadata": {},
   "outputs": [],
   "source": [
    "# load_and_stitch([\"105934\", \"110340\", \"110444\", \"110640\"], plot_label=\"TL residual error\")\n",
    "# load_and_stitch([\"111604\", \"112046\", \"112135\", \"112233\"], plot_label=\"TL dark noise\")\n",
    "# load_and_stitch([\"113737\", \"113841\", \"113923\", \"114113\"], plot_label=\"TL jitter + dark noise\")"
   ]
  },
  {
   "cell_type": "code",
   "execution_count": null,
   "metadata": {},
   "outputs": [],
   "source": [
    "max_freqs, data1 = load_and_stitch([\"105934\", \"110340\", \"110444\", \"110640\"], plot_true=False, return_data=True)\n",
    "max_freqs, data2 = load_and_stitch([\"111604\", \"112046\", \"112135\", \"112233\"], plot_true=False, return_data=True)\n",
    "max_freqs, data3 = load_and_stitch([\"113737\", \"113841\", \"113923\", \"114113\"], plot_true=False, return_data=True)\n",
    "\n",
    "yrange = (min((data[:,1].min() for data in [data1, data2, data3])),\n",
    "          max((data[:,1].max() for data in [data1, data2, data3])))\n",
    "\n",
    "fig, ax = plt.subplots(figsize=(12,6))\n",
    "ax.loglog(data1[:,0], data1[:,1], label=\"TL residual error\")\n",
    "ax.loglog(data2[:,0], data2[:,1], label=\"TL dark noise\")\n",
    "ax.loglog(data3[:,0], data3[:,1], label=\"TL jitter + dark noise\")\n",
    "ax.vlines(max_freqs[:-1], yrange[0], yrange[1], colors=['r'], linestyles=['--'], label='frequency bands')\n",
    "ax.set(title=\"\", ylabel=r\"absolute value of FFT / $\\dfrac{V_{rms}}{\\sqrt{Hz}}$\", xlabel=\"frequency / Hz\",\n",
    "       xlim=(None, data1[:,0].max()))\n",
    "ax.legend()\n",
    "ax.grid(which=\"both\")\n",
    "fig.savefig(\"TL_residual_error_full_spectrum_comparison.pdf\", bbox_inches=\"tight\")\n",
    "fig.savefig(\"TL_residual_error_full_spectrum_comparison.jpg\", bbox_inches=\"tight\")\n",
    "plt.show(fig)"
   ]
  },
  {
   "cell_type": "code",
   "execution_count": null,
   "metadata": {},
   "outputs": [],
   "source": []
  },
  {
   "cell_type": "code",
   "execution_count": null,
   "metadata": {},
   "outputs": [],
   "source": []
  },
  {
   "cell_type": "code",
   "execution_count": null,
   "metadata": {},
   "outputs": [],
   "source": []
  }
 ],
 "metadata": {
  "kernelspec": {
   "display_name": "Python 3",
   "language": "python",
   "name": "python3"
  },
  "language_info": {
   "codemirror_mode": {
    "name": "ipython",
    "version": 3
   },
   "file_extension": ".py",
   "mimetype": "text/x-python",
   "name": "python",
   "nbconvert_exporter": "python",
   "pygments_lexer": "ipython3",
   "version": "3.6.9"
  }
 },
 "nbformat": 4,
 "nbformat_minor": 2
}
